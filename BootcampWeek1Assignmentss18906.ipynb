{
  "nbformat": 4,
  "nbformat_minor": 0,
  "metadata": {
    "colab": {
      "provenance": []
    },
    "kernelspec": {
      "name": "python3",
      "display_name": "Python 3"
    },
    "language_info": {
      "name": "python"
    }
  },
  "cells": [
    {
      "cell_type": "markdown",
      "source": [
        "BootCamp Week 1 Assignment\n",
        "\n",
        "Name: Samridh Srivastava\n",
        "\n",
        "NetID: ss18906"
      ],
      "metadata": {
        "id": "Tsru5tONXxy3"
      }
    },
    {
      "cell_type": "markdown",
      "source": [
        "Display Fibonacci Series upto 10 terms\n",
        "\n",
        "> Add blockquote\n",
        "\n"
      ],
      "metadata": {
        "id": "48Ovs6faUAp7"
      }
    },
    {
      "cell_type": "code",
      "execution_count": 22,
      "metadata": {
        "colab": {
          "base_uri": "https://localhost:8080/"
        },
        "id": "BpIVwNADT1DB",
        "outputId": "451f1acb-c3de-4800-bb8a-78c8155c06ac"
      },
      "outputs": [
        {
          "output_type": "stream",
          "name": "stdout",
          "text": [
            "0\n",
            "1\n",
            "1\n",
            "2\n",
            "3\n",
            "5\n",
            "8\n",
            "13\n",
            "21\n",
            "34\n"
          ]
        }
      ],
      "source": [
        "def fibo_recursive(n):\n",
        "  if n<=1:\n",
        "    return 1\n",
        "  return fibo(n-1) + fibo(n-2)\n",
        "\n",
        "def fibo(n):\n",
        "  fiboSequence = [0,1]\n",
        "  print(fiboSequence[0])\n",
        "  print(fiboSequence[1])\n",
        "  for i in range(2,n):\n",
        "    fiboSequence.append(fiboSequence[i-2] + fiboSequence[i-1])\n",
        "    print(fiboSequence[i])\n",
        "\n",
        "fibo(10)"
      ]
    },
    {
      "cell_type": "markdown",
      "source": [
        "2.⁠ ⁠Display numbers at the odd indices of a list"
      ],
      "metadata": {
        "id": "wYgF4A0IVgSY"
      }
    },
    {
      "cell_type": "code",
      "source": [
        "arr = [1,2,3,4,5,6,7,8]\n",
        "\n",
        "for i in range(len(arr)):\n",
        "  if i%2!=0:\n",
        "    print(arr[i])"
      ],
      "metadata": {
        "colab": {
          "base_uri": "https://localhost:8080/"
        },
        "id": "F9ln9lM8T8-i",
        "outputId": "f9ee5414-940a-4b15-9bc9-8a01609951c5"
      },
      "execution_count": 23,
      "outputs": [
        {
          "output_type": "stream",
          "name": "stdout",
          "text": [
            "2\n",
            "4\n",
            "6\n",
            "8\n"
          ]
        }
      ]
    },
    {
      "cell_type": "markdown",
      "source": [
        "3.⁠ ⁠⁠string = \"\"\"\n",
        "\n",
        "I have provided this text to provide tips on creating interesting paragraphs.\n",
        "\n",
        "First, start with a clear topic sentence that introduces the main idea.\n",
        "\n",
        "Then, support the topic sentence with specific details, examples, and evidence.\n",
        "\n",
        "Vary the sentence length and structure to keep the reader engaged.\n",
        "\n",
        "Finally, end with a strong concluding sentence that summarizes the main points.\n",
        "\n",
        "Remember, practice makes perfect!\n",
        "\n",
        "\"\"\""
      ],
      "metadata": {
        "id": "iO8453HBVuqL"
      }
    },
    {
      "cell_type": "code",
      "source": [
        "testString = \"\"\"\n",
        "I have provided this text to provide tips on creating interesting paragraphs.\n",
        "\n",
        "First, start with a clear topic sentence that introduces the main idea.\n",
        "\n",
        "Then, support the topic sentence with specific details, examples, and evidence.\n",
        "\n",
        "Vary the sentence length and structure to keep the reader engaged.\n",
        "\n",
        "Finally, end with a strong concluding sentence that summarizes the main points.\n",
        "\n",
        "Remember, practice makes perfect!\n",
        "\n",
        "\"\"\""
      ],
      "metadata": {
        "id": "FxWq0CyvV3Ov"
      },
      "execution_count": 24,
      "outputs": []
    },
    {
      "cell_type": "markdown",
      "source": [
        "4.⁠ ⁠Write a function count_vowels(word) that takes a word as an argument and returns the number of vowels in the word\n",
        "\n"
      ],
      "metadata": {
        "id": "jXfO9qIhWCbt"
      }
    },
    {
      "cell_type": "code",
      "source": [
        "def count_vowels(word):\n",
        "  vowels = ['a','e','i','o','u']\n",
        "  count = 0\n",
        "  for i in word:\n",
        "    if i in vowels:\n",
        "      count+=1\n",
        "  return count\n",
        "\n",
        "print(count_vowels(\"Samridh\"))"
      ],
      "metadata": {
        "colab": {
          "base_uri": "https://localhost:8080/"
        },
        "id": "6CBRGhNvV_F1",
        "outputId": "5277ae50-e01e-46ee-e46c-d36482a64477"
      },
      "execution_count": 25,
      "outputs": [
        {
          "output_type": "stream",
          "name": "stdout",
          "text": [
            "2\n"
          ]
        }
      ]
    },
    {
      "cell_type": "markdown",
      "source": [
        "5.⁠ ⁠Iterate through the following list of animals and print each one in all caps.\n",
        "\n",
        "animals=['tiger', 'elephant', 'monkey', 'zebra', 'panther']"
      ],
      "metadata": {
        "id": "Obl3Q3SNWaPp"
      }
    },
    {
      "cell_type": "code",
      "source": [
        "animals=['tiger', 'elephant', 'monkey', 'zebra', 'panther']\n",
        "\n",
        "for animal in animals:\n",
        "  print(animal.upper())"
      ],
      "metadata": {
        "colab": {
          "base_uri": "https://localhost:8080/"
        },
        "id": "jzR6dJLuWUyi",
        "outputId": "32655c71-b05b-492e-b5f9-8b5aa95d656f"
      },
      "execution_count": 26,
      "outputs": [
        {
          "output_type": "stream",
          "name": "stdout",
          "text": [
            "TIGER\n",
            "ELEPHANT\n",
            "MONKEY\n",
            "ZEBRA\n",
            "PANTHER\n"
          ]
        }
      ]
    },
    {
      "cell_type": "markdown",
      "source": [
        "6.⁠ ⁠Write a program that iterates from 1 to 20, printing each number and whether it's odd or even."
      ],
      "metadata": {
        "id": "C9v-8637WvVA"
      }
    },
    {
      "cell_type": "code",
      "source": [
        "for i in range(1,21):\n",
        "  if i==1:\n",
        "    print(str(i) + \" is neither odd nor even\")\n",
        "  if i%2==0:\n",
        "    print(str(i) + \" is even\")\n",
        "  else:\n",
        "    print(str(i) + \" is odd\")"
      ],
      "metadata": {
        "colab": {
          "base_uri": "https://localhost:8080/"
        },
        "id": "KEcSlilQWxvh",
        "outputId": "30a11950-c322-41cf-8ff5-a7061f260f34"
      },
      "execution_count": 27,
      "outputs": [
        {
          "output_type": "stream",
          "name": "stdout",
          "text": [
            "1 is neither odd nor even\n",
            "1 is odd\n",
            "2 is even\n",
            "3 is odd\n",
            "4 is even\n",
            "5 is odd\n",
            "6 is even\n",
            "7 is odd\n",
            "8 is even\n",
            "9 is odd\n",
            "10 is even\n",
            "11 is odd\n",
            "12 is even\n",
            "13 is odd\n",
            "14 is even\n",
            "15 is odd\n",
            "16 is even\n",
            "17 is odd\n",
            "18 is even\n",
            "19 is odd\n",
            "20 is even\n"
          ]
        }
      ]
    },
    {
      "cell_type": "markdown",
      "source": [
        "7.⁠ ⁠Write a function sum_of_integers(a, b) that takes two integers as input from the user and returns their sum."
      ],
      "metadata": {
        "id": "MvvHw46JXQhD"
      }
    },
    {
      "cell_type": "code",
      "source": [
        "a = int(input(\"Input a\"))\n",
        "b = int(input(\"Input b\"))\n",
        "\n",
        "def sum_of_integers(a,b):\n",
        "  return a+b\n",
        "\n",
        "print(sum_of_integers(a,b))"
      ],
      "metadata": {
        "colab": {
          "base_uri": "https://localhost:8080/"
        },
        "id": "ZU1DL7vWXMZy",
        "outputId": "6e9b5499-21f2-4552-b8bc-97d07ac98797"
      },
      "execution_count": 28,
      "outputs": [
        {
          "output_type": "stream",
          "name": "stdout",
          "text": [
            "Input a1\n",
            "Input b2\n",
            "3\n"
          ]
        }
      ]
    },
    {
      "cell_type": "code",
      "source": [],
      "metadata": {
        "id": "JmdFO-T_YFbY"
      },
      "execution_count": null,
      "outputs": []
    }
  ]
}